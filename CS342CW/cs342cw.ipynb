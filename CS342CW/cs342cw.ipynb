{
 "cells": [
  {
   "cell_type": "code",
   "execution_count": 2,
   "metadata": {},
   "outputs": [
    {
     "name": "stdout",
     "output_type": "stream",
     "text": [
      "\u001b[33mDEPRECATION: Configuring installation scheme with distutils config files is deprecated and will no longer work in the near future. If you are using a Homebrew or Linuxbrew Python, please see discussion at https://github.com/Homebrew/homebrew-core/issues/76621\u001b[0m\u001b[33m\n",
      "\u001b[0mRequirement already satisfied: scikit-learn in /usr/local/lib/python3.9/site-packages (1.1.3)\n",
      "Requirement already satisfied: joblib>=1.0.0 in /usr/local/lib/python3.9/site-packages (from scikit-learn) (1.2.0)\n",
      "Requirement already satisfied: threadpoolctl>=2.0.0 in /usr/local/lib/python3.9/site-packages (from scikit-learn) (3.1.0)\n",
      "Requirement already satisfied: numpy>=1.17.3 in /usr/local/lib/python3.9/site-packages (from scikit-learn) (1.23.5)\n",
      "Requirement already satisfied: scipy>=1.3.2 in /usr/local/lib/python3.9/site-packages (from scikit-learn) (1.9.3)\n",
      "\u001b[33mDEPRECATION: Configuring installation scheme with distutils config files is deprecated and will no longer work in the near future. If you are using a Homebrew or Linuxbrew Python, please see discussion at https://github.com/Homebrew/homebrew-core/issues/76621\u001b[0m\u001b[33m\n",
      "\u001b[0m\n",
      "\u001b[1m[\u001b[0m\u001b[34;49mnotice\u001b[0m\u001b[1;39;49m]\u001b[0m\u001b[39;49m A new release of pip available: \u001b[0m\u001b[31;49m22.2.2\u001b[0m\u001b[39;49m -> \u001b[0m\u001b[32;49m22.3.1\u001b[0m\n",
      "\u001b[1m[\u001b[0m\u001b[34;49mnotice\u001b[0m\u001b[1;39;49m]\u001b[0m\u001b[39;49m To update, run: \u001b[0m\u001b[32;49mpython3.9 -m pip install --upgrade pip\u001b[0m\n",
      "Note: you may need to restart the kernel to use updated packages.\n"
     ]
    }
   ],
   "source": [
    "pip install scikit-learn"
   ]
  },
  {
   "cell_type": "code",
   "execution_count": 3,
   "metadata": {},
   "outputs": [
    {
     "name": "stdout",
     "output_type": "stream",
     "text": [
      "\u001b[33mDEPRECATION: Configuring installation scheme with distutils config files is deprecated and will no longer work in the near future. If you are using a Homebrew or Linuxbrew Python, please see discussion at https://github.com/Homebrew/homebrew-core/issues/76621\u001b[0m\u001b[33m\n",
      "\u001b[0mRequirement already satisfied: matplotlib in /usr/local/lib/python3.9/site-packages (3.6.2)\n",
      "Requirement already satisfied: contourpy>=1.0.1 in /usr/local/lib/python3.9/site-packages (from matplotlib) (1.0.6)\n",
      "Requirement already satisfied: numpy>=1.19 in /usr/local/lib/python3.9/site-packages (from matplotlib) (1.23.5)\n",
      "Requirement already satisfied: packaging>=20.0 in /usr/local/lib/python3.9/site-packages (from matplotlib) (21.3)\n",
      "Requirement already satisfied: kiwisolver>=1.0.1 in /usr/local/lib/python3.9/site-packages (from matplotlib) (1.4.4)\n",
      "Requirement already satisfied: fonttools>=4.22.0 in /usr/local/lib/python3.9/site-packages (from matplotlib) (4.38.0)\n",
      "Requirement already satisfied: pyparsing>=2.2.1 in /usr/local/lib/python3.9/site-packages (from matplotlib) (3.0.9)\n",
      "Requirement already satisfied: pillow>=6.2.0 in /usr/local/lib/python3.9/site-packages (from matplotlib) (9.3.0)\n",
      "Requirement already satisfied: python-dateutil>=2.7 in /usr/local/lib/python3.9/site-packages (from matplotlib) (2.8.2)\n",
      "Requirement already satisfied: cycler>=0.10 in /usr/local/lib/python3.9/site-packages (from matplotlib) (0.11.0)\n",
      "Requirement already satisfied: six>=1.5 in /usr/local/lib/python3.9/site-packages (from python-dateutil>=2.7->matplotlib) (1.16.0)\n",
      "\u001b[33mDEPRECATION: Configuring installation scheme with distutils config files is deprecated and will no longer work in the near future. If you are using a Homebrew or Linuxbrew Python, please see discussion at https://github.com/Homebrew/homebrew-core/issues/76621\u001b[0m\u001b[33m\n",
      "\u001b[0m\n",
      "\u001b[1m[\u001b[0m\u001b[34;49mnotice\u001b[0m\u001b[1;39;49m]\u001b[0m\u001b[39;49m A new release of pip available: \u001b[0m\u001b[31;49m22.2.2\u001b[0m\u001b[39;49m -> \u001b[0m\u001b[32;49m22.3.1\u001b[0m\n",
      "\u001b[1m[\u001b[0m\u001b[34;49mnotice\u001b[0m\u001b[1;39;49m]\u001b[0m\u001b[39;49m To update, run: \u001b[0m\u001b[32;49mpython3.9 -m pip install --upgrade pip\u001b[0m\n",
      "Note: you may need to restart the kernel to use updated packages.\n"
     ]
    }
   ],
   "source": [
    "pip install matplotlib"
   ]
  },
  {
   "cell_type": "code",
   "execution_count": 4,
   "metadata": {},
   "outputs": [
    {
     "name": "stdout",
     "output_type": "stream",
     "text": [
      "\u001b[33mDEPRECATION: Configuring installation scheme with distutils config files is deprecated and will no longer work in the near future. If you are using a Homebrew or Linuxbrew Python, please see discussion at https://github.com/Homebrew/homebrew-core/issues/76621\u001b[0m\u001b[33m\n",
      "\u001b[0mRequirement already satisfied: pandas in /usr/local/lib/python3.9/site-packages (1.5.2)\n",
      "Requirement already satisfied: python-dateutil>=2.8.1 in /usr/local/lib/python3.9/site-packages (from pandas) (2.8.2)\n",
      "Requirement already satisfied: numpy>=1.20.3 in /usr/local/lib/python3.9/site-packages (from pandas) (1.23.5)\n",
      "Requirement already satisfied: pytz>=2020.1 in /usr/local/lib/python3.9/site-packages (from pandas) (2022.6)\n",
      "Requirement already satisfied: six>=1.5 in /usr/local/lib/python3.9/site-packages (from python-dateutil>=2.8.1->pandas) (1.16.0)\n",
      "\u001b[33mDEPRECATION: Configuring installation scheme with distutils config files is deprecated and will no longer work in the near future. If you are using a Homebrew or Linuxbrew Python, please see discussion at https://github.com/Homebrew/homebrew-core/issues/76621\u001b[0m\u001b[33m\n",
      "\u001b[0m\n",
      "\u001b[1m[\u001b[0m\u001b[34;49mnotice\u001b[0m\u001b[1;39;49m]\u001b[0m\u001b[39;49m A new release of pip available: \u001b[0m\u001b[31;49m22.2.2\u001b[0m\u001b[39;49m -> \u001b[0m\u001b[32;49m22.3.1\u001b[0m\n",
      "\u001b[1m[\u001b[0m\u001b[34;49mnotice\u001b[0m\u001b[1;39;49m]\u001b[0m\u001b[39;49m To update, run: \u001b[0m\u001b[32;49mpython3.9 -m pip install --upgrade pip\u001b[0m\n",
      "Note: you may need to restart the kernel to use updated packages.\n"
     ]
    }
   ],
   "source": [
    "pip install pandas"
   ]
  },
  {
   "cell_type": "code",
   "execution_count": 5,
   "metadata": {},
   "outputs": [
    {
     "name": "stdout",
     "output_type": "stream",
     "text": [
      "\u001b[33mDEPRECATION: Configuring installation scheme with distutils config files is deprecated and will no longer work in the near future. If you are using a Homebrew or Linuxbrew Python, please see discussion at https://github.com/Homebrew/homebrew-core/issues/76621\u001b[0m\u001b[33m\n",
      "\u001b[0mRequirement already satisfied: mlxtend in /usr/local/lib/python3.9/site-packages (0.21.0)\n",
      "Requirement already satisfied: pandas>=0.24.2 in /usr/local/lib/python3.9/site-packages (from mlxtend) (1.5.2)\n",
      "Requirement already satisfied: matplotlib>=3.0.0 in /usr/local/lib/python3.9/site-packages (from mlxtend) (3.6.2)\n",
      "Requirement already satisfied: scipy>=1.2.1 in /usr/local/lib/python3.9/site-packages (from mlxtend) (1.9.3)\n",
      "Requirement already satisfied: joblib>=0.13.2 in /usr/local/lib/python3.9/site-packages (from mlxtend) (1.2.0)\n",
      "Requirement already satisfied: scikit-learn>=1.0.2 in /usr/local/lib/python3.9/site-packages (from mlxtend) (1.1.3)\n",
      "Requirement already satisfied: setuptools in /usr/local/lib/python3.9/site-packages (from mlxtend) (65.4.1)\n",
      "Requirement already satisfied: numpy>=1.16.2 in /usr/local/lib/python3.9/site-packages (from mlxtend) (1.23.5)\n",
      "Requirement already satisfied: pillow>=6.2.0 in /usr/local/lib/python3.9/site-packages (from matplotlib>=3.0.0->mlxtend) (9.3.0)\n",
      "Requirement already satisfied: pyparsing>=2.2.1 in /usr/local/lib/python3.9/site-packages (from matplotlib>=3.0.0->mlxtend) (3.0.9)\n",
      "Requirement already satisfied: contourpy>=1.0.1 in /usr/local/lib/python3.9/site-packages (from matplotlib>=3.0.0->mlxtend) (1.0.6)\n",
      "Requirement already satisfied: cycler>=0.10 in /usr/local/lib/python3.9/site-packages (from matplotlib>=3.0.0->mlxtend) (0.11.0)\n",
      "Requirement already satisfied: kiwisolver>=1.0.1 in /usr/local/lib/python3.9/site-packages (from matplotlib>=3.0.0->mlxtend) (1.4.4)\n",
      "Requirement already satisfied: python-dateutil>=2.7 in /usr/local/lib/python3.9/site-packages (from matplotlib>=3.0.0->mlxtend) (2.8.2)\n",
      "Requirement already satisfied: packaging>=20.0 in /usr/local/lib/python3.9/site-packages (from matplotlib>=3.0.0->mlxtend) (21.3)\n",
      "Requirement already satisfied: fonttools>=4.22.0 in /usr/local/lib/python3.9/site-packages (from matplotlib>=3.0.0->mlxtend) (4.38.0)\n",
      "Requirement already satisfied: pytz>=2020.1 in /usr/local/lib/python3.9/site-packages (from pandas>=0.24.2->mlxtend) (2022.6)\n",
      "Requirement already satisfied: threadpoolctl>=2.0.0 in /usr/local/lib/python3.9/site-packages (from scikit-learn>=1.0.2->mlxtend) (3.1.0)\n",
      "Requirement already satisfied: six>=1.5 in /usr/local/lib/python3.9/site-packages (from python-dateutil>=2.7->matplotlib>=3.0.0->mlxtend) (1.16.0)\n",
      "\u001b[33mDEPRECATION: Configuring installation scheme with distutils config files is deprecated and will no longer work in the near future. If you are using a Homebrew or Linuxbrew Python, please see discussion at https://github.com/Homebrew/homebrew-core/issues/76621\u001b[0m\u001b[33m\n",
      "\u001b[0m\n",
      "\u001b[1m[\u001b[0m\u001b[34;49mnotice\u001b[0m\u001b[1;39;49m]\u001b[0m\u001b[39;49m A new release of pip available: \u001b[0m\u001b[31;49m22.2.2\u001b[0m\u001b[39;49m -> \u001b[0m\u001b[32;49m22.3.1\u001b[0m\n",
      "\u001b[1m[\u001b[0m\u001b[34;49mnotice\u001b[0m\u001b[1;39;49m]\u001b[0m\u001b[39;49m To update, run: \u001b[0m\u001b[32;49mpython3.9 -m pip install --upgrade pip\u001b[0m\n",
      "Note: you may need to restart the kernel to use updated packages.\n"
     ]
    }
   ],
   "source": [
    "pip install mlxtend"
   ]
  },
  {
   "cell_type": "code",
   "execution_count": 45,
   "metadata": {},
   "outputs": [],
   "source": [
    "import matplotlib.pyplot as plt\n",
    "import numpy as np\n",
    "from sklearn.model_selection import train_test_split\n",
    "import pandas as ps\n",
    "from mlxtend.preprocessing import MeanCenterer\n",
    "import random\n",
    "import math"
   ]
  },
  {
   "cell_type": "code",
   "execution_count": 7,
   "metadata": {},
   "outputs": [],
   "source": [
    "#Load the data into pandas dataframe\n",
    "X_og = ps.read_csv(\"accent-mfcc-data-1.data\", header=None)\n",
    "X_pd = X_og.copy()\n",
    "\n",
    "target_labels = [\"ES\", \"FR\", \"GE\", \"IT\", \"UK\", \"US\"]\n",
    "\n",
    "#Replace the target labels with numerical values\n",
    "\n",
    "for i in range(len(X_pd)):\n",
    "    if (X_pd.iloc[i,0] == \"ES\"):\n",
    "        X_pd.iloc[i,0] = 0\n",
    "    elif(X_pd.iloc[i,0] == \"FR\"):\n",
    "        X_pd.iloc[i,0] = 1\n",
    "    elif(X_pd.iloc[i,0] == \"GE\"):\n",
    "        X_pd.iloc[i,0] = 2\n",
    "    elif(X_pd.iloc[i,0] == \"IT\"):\n",
    "        X_pd.iloc[i,0] = 3\n",
    "    elif(X_pd.iloc[i,0] == \"UK\"):\n",
    "        X_pd.iloc[i,0] = 4\n",
    "    else:\n",
    "        X_pd.iloc[i,0] = 5\n",
    "\n",
    "#Retrieve targets and add into a numpy array\n",
    "\n",
    "y_temp = X_pd.iloc[:,0]\n",
    "y = y_temp.to_numpy()\n",
    "\n",
    "#Retrieve data without the targets and add into a numpy array\n",
    "without_labels = X_pd.drop(X_pd.columns[0], axis=1)\n",
    "X = without_labels.to_numpy()\n",
    "\n",
    "\n"
   ]
  },
  {
   "cell_type": "code",
   "execution_count": 8,
   "metadata": {},
   "outputs": [],
   "source": [
    "#Function to computte the PCA decomposition\n",
    "def components(dataset, number):\n",
    "    U,D,V = np.linalg.svd(dataset, full_matrices=False)\n",
    "    return V[:number, :]"
   ]
  },
  {
   "cell_type": "code",
   "execution_count": 9,
   "metadata": {},
   "outputs": [
    {
     "data": {
      "image/png": "[encoded data removed]",
      "text/plain": [
       "<Figure size 640x480 with 1 Axes>"
      ]
     },
     "metadata": {},
     "output_type": "display_data"
    }
   ],
   "source": [
    "#Center the data\n",
    "\n",
    "centered_X = X - X.mean(axis=0)\n",
    "\n",
    "#Compute the new basis Z of the data using PCA to find the \n",
    "#top 2 principle components and multiplying that with the centered data\n",
    "\n",
    "W = components(centered_X, 2)\n",
    "Z = np.matmul(centered_X, W.T)\n",
    "\n",
    "zrows, zcols = Z.shape\n",
    "\n",
    "#Plot the datapoints in the new basis according to their class\n",
    "\n",
    "for i in range(zrows):\n",
    "    if (y[i] == 0):\n",
    "        plt.scatter(Z[i][0], Z[i][1], color = 'blue')\n",
    "    elif (y[i] == 1):\n",
    "        plt.scatter(Z[i][0], Z[i][1], color = 'pink')\n",
    "    elif (y[i] == 2):\n",
    "        plt.scatter(Z[i][0], Z[i][1], color = 'green')\n",
    "    elif (y[i] == 3):\n",
    "        plt.scatter(Z[i][0], Z[i][1], color = 'black')\n",
    "    elif (y[i] == 4):\n",
    "        plt.scatter(Z[i][0], Z[i][1], color = 'purple')\n",
    "    elif(y[i] == 5):\n",
    "        plt.scatter(Z[i][0], Z[i][1], color = 'orange') \n",
    "plt.show()\n"
   ]
  },
  {
   "cell_type": "code",
   "execution_count": 61,
   "metadata": {},
   "outputs": [],
   "source": [
    "#Multiclass Perceptron\n",
    "\n",
    "def perceptron(X, y):\n",
    "    rows, cols = (6, X.shape[1]+1)\n",
    "    w = [[0 for i in range(cols)] for j in range(rows)]\n",
    "    for element in w:\n",
    "        element[X.shape[1]] = 1\n",
    "    \n",
    "    #w = [[0,0,0,0,0,0,0,0,0,0,0,0,1],[0,0,0,0,0,0,0,0,0,0,0,0,1],[0,0,0,0,0,0,0,0,0,0,0,0,1],[0,0,0,0,0,0,0,0,0,0,0,0,1],[0,0,0,0,0,0,0,0,0,0,0,0,1],[0,0,0,0,0,0,0,0,0,0,0,0,1]]\n",
    "\n",
    "    biasCol = np.ones((X.shape[0],1), dtype=int)\n",
    "    newX = np.hstack((X, biasCol))\n",
    "\n",
    "    for i in range(10):\n",
    "        #errSum = 0\n",
    "        picked = []\n",
    "        pickedFlag = True\n",
    "        for j in range(newX.shape[0]):\n",
    "            pickedFlag = True\n",
    "            while (pickedFlag == True):\n",
    "                fV = random.choice(newX)\n",
    "                pickedFlag = False\n",
    "                for element in picked:\n",
    "                    if (np.array_equal(element, fV)):\n",
    "                        pickedFlag = True\n",
    "                        break\n",
    "            picked.append(fV)\n",
    "            for k in range(newX.shape[0]):\n",
    "                if (np.array_equal(newX[k,:],fV)):\n",
    "                    index = k\n",
    "                    break\n",
    "            \n",
    "            dict = {}\n",
    "        \n",
    "            for k in range (len(w)):\n",
    "                val = np.matmul(w[k],fV)\n",
    "                dict[k] = val\n",
    "            \n",
    "            y_current = max(dict, key=dict.get)\n",
    "            y_target = y[index]\n",
    "\n",
    "            if (y_current != y_target):\n",
    "                #errSum+=1\n",
    "                w[y_current] = w[y_current] - fV\n",
    "                w[y_target] = w[y_target] + fV\n",
    "        #print('-----Training step ' + str(i+1) + ' finished with total no. of errors =  ' + str(errSum))\n",
    "\n",
    "    errSum = 0\n",
    "    picked2 = []\n",
    "    pickedFlag2 = True\n",
    "    for j in range(newX.shape[0]):\n",
    "        pickedFlag2 = True\n",
    "        while (pickedFlag2 == True):\n",
    "            fV2 = random.choice(newX)\n",
    "            pickedFlag2 = False\n",
    "            for element in picked2:\n",
    "                if (np.array_equal(element, fV2)):\n",
    "                    pickedFlag2 = True\n",
    "                    break\n",
    "        picked2.append(fV2)\n",
    "        for k in range(newX.shape[0]):\n",
    "            if (np.array_equal(newX[k,:],fV2)):\n",
    "                index = k\n",
    "                break\n",
    "                \n",
    "        dict = {}\n",
    "            \n",
    "        for k in range (len(w)):\n",
    "            val = np.matmul(w[k],fV2)\n",
    "            dict[k] = val\n",
    "                \n",
    "        y_current = max(dict, key=dict.get)\n",
    "        y_target = y[index]\n",
    "\n",
    "        if (y_current != y_target):\n",
    "            errSum+=1\n",
    "\n",
    "    accuracy = math.floor(((329-errSum)/329)*100)\n",
    "    return accuracy\n"
   ]
  },
  {
   "cell_type": "code",
   "execution_count": 64,
   "metadata": {},
   "outputs": [
    {
     "name": "stdout",
     "output_type": "stream",
     "text": [
      "Original Feature Space Accuracy: 62%\n",
      "2d Feature Space Accuracy :37%\n",
      "3d Feature Space Accuracy :39%\n",
      "4d Feature Space Accuracy :55%\n",
      "5d Feature Space Accuracy :54%\n",
      "6d Feature Space Accuracy :54%\n",
      "7d Feature Space Accuracy :56%\n",
      "8d Feature Space Accuracy :61%\n",
      "9d Feature Space Accuracy :61%\n",
      "10d Feature Space Accuracy :65%\n",
      "11d Feature Space Accuracy :69%\n",
      "12d Feature Space Accuracy :68%\n"
     ]
    }
   ],
   "source": [
    "accuracyOG = perceptron(X,y)\n",
    "print(\"Original Feature Space Accuracy: \" + str(accuracyOG) + \"%\")\n",
    "\n",
    "centered_X = X - X.mean(axis=0)\n",
    "\n",
    "for i in range(2, 13):\n",
    "    W = components(centered_X,i)\n",
    "    Z = np.matmul(centered_X, W.T)\n",
    "\n",
    "    accuracy = perceptron(Z,y)\n",
    "    print(str(i)+\"d Feature Space Accuracy:\" + str(accuracy) + \"%\")\n",
    "\n"
   ]
  }
 ],
 "metadata": {
  "interpreter": {
   "hash": "397704579725e15f5c7cb49fe5f0341eb7531c82d19f2c29d197e8b64ab5776b"
  },
  "kernelspec": {
   "display_name": "Python 3.9.15 64-bit",
   "language": "python",
   "name": "python3"
  },
  "language_info": {
   "codemirror_mode": {
    "name": "ipython",
    "version": 3
   },
   "file_extension": ".py",
   "mimetype": "text/x-python",
   "name": "python",
   "nbconvert_exporter": "python",
   "pygments_lexer": "ipython3",
   "version": "3.9.15"
  },
  "orig_nbformat": 4
 },
 "nbformat": 4,
 "nbformat_minor": 2
}
