{
 "cells": [
  {
   "cell_type": "markdown",
   "metadata": {},
   "source": [
    "# CS342 Machine Learning\n",
    "\n",
    "# Lab 6: The perceptron algorithm \n",
    "\n",
    "## Department of Computer Science, University of Warwick\n",
    "\n",
    "## Sample solutions\n",
    "\n",
    "## Please note: \n",
    "\n",
    "### 1. the code in this sample solution has not been optimized. This sample solution is for you to check the results you have obtained with your code.\n",
    "### 2. the code assumes the needed files are located in your working directory."
   ]
  },
  {
   "cell_type": "markdown",
   "metadata": {},
   "source": [
    "This lab focuses on the implementation of the perceptron algorithm to classify linearly separable data."
   ]
  },
  {
   "cell_type": "markdown",
   "metadata": {},
   "source": [
    "The perceptron algorithm for linearly separable data covered in class is below:\n",
    "\n",
    "|| **Algorithm 1: The perceptron** <br>|\n",
    "|:--|:------|\n",
    "|1:|Initialize $\\textbf{w}$ to $\\textbf{0}$<br>|\n",
    "|2:|**while** non-zero error **do**<br>|\n",
    "|3:|&emsp;**for** $i=1$ to $n$ (training examples) **do**<br>|\n",
    "|4:|&emsp;&emsp;Get datapoint $\\textbf{x}_i$<br>|\n",
    "|5:|&emsp;&emsp;Compute error $e_i=\\text{sign}(\\textbf{w}^{\\text{T}}\\textbf{x}_i)-y_i$<br>|\n",
    "|6:|&emsp;&emsp;**If** $e_i\\neq0$<br>|\n",
    "|7:|&emsp;&emsp;&emsp;Update $\\textbf{w}+=y_i \\textbf{x}_i$<br>|\n"
   ]
  },
  {
   "cell_type": "markdown",
   "metadata": {},
   "source": [
    "Implement Algorithm 1 with the linearly separable data in Table 1. **Hints:**  You can use *numpy.sign(a)* to implement the sign(*a*) function. Recall to include the bias term in $\\textbf{X}$ by adding a column of 1s.\n",
    "\n",
    "| Feature 1 (${x}_{i1}$)| Feature 2 (${x}_{i2}$)   | Class ($y_i$)    |\n",
    "|:-------------|:-----------|:------|\n",
    "|1| -1   | -1   | \n",
    "|2| 1      | 1   |\n",
    "|1.5| 0.5    | -1   |\n",
    "|2| -1      | -1   |\n",
    "|1| 2   | 1   |\n",
    "\n",
    "\n",
    "1. Is the algorithm affected by different initialization on $\\textbf{w}$? \n",
    "2. Plot the data and the resulting decision boundary when $\\textbf{w}$ is initialized to 0"
   ]
  },
  {
   "cell_type": "code",
   "execution_count": 1,
   "metadata": {},
   "outputs": [
    {
     "name": "stdout",
     "output_type": "stream",
     "text": [
      ">>>>>>>>>>>>>>>>>>>>>>>>>>Training<<<<<<<<<<<<<<<<<<<<<<<<<<<<<\n",
      "Initial soltion w_ =  [0. 0. 0.]\n",
      "-----Training step 1 finished with total no. of errors =  5.0\n",
      "-----Training step 2 finished with total no. of errors =  4.0\n",
      "-----Training step 3 finished with total no. of errors =  3.0\n",
      "-----Training step 4 finished with total no. of errors =  1.0\n",
      "-----Training step 5 finished with total no. of errors =  4.0\n",
      "-----Training step 6 finished with total no. of errors =  4.0\n",
      "-----Training step 7 finished with total no. of errors =  3.0\n",
      "-----Training step 8 finished with total no. of errors =  0.0\n",
      "Finished checking refined solution. No. of errors =  0\n",
      ">>>>>>>>>>>>>>>>>>>>>>>>>>Plot of the Decision Boundary<<<<<<<<<<<<<<<<<<<<<<<<<<<<<\n",
      "[-2.  -0.5  4.5]\n",
      "Model: y =  -2.00 + -0.50x1 + 4.50x2 \n"
     ]
    },
    {
     "data": {
      "image/png": "[encoded data removed]",
      "text/plain": [
       "<Figure size 640x480 with 1 Axes>"
      ]
     },
     "metadata": {},
     "output_type": "display_data"
    }
   ],
   "source": [
    "import numpy as np\n",
    "import math\n",
    "import matplotlib.pyplot as plt\n",
    "from matplotlib.colors import ListedColormap\n",
    "\n",
    "# Implement Algorithm 1 with the data in Table 1\n",
    "def Perceptron(X, Y, w):\n",
    "    errorFlag = 1\n",
    "    step = 0\n",
    "    while errorFlag:\n",
    "        step += 1\n",
    "        errSum = 0\n",
    "        errorFlag = 0\n",
    "        for i in range(X.shape[1]):\n",
    "            x = X[:, i]\n",
    "            #print(x)\n",
    "            y = Y[i]\n",
    "            e = y - np.sign(np.matmul(w, x))\n",
    "            #print(np.sign(np.matmul(w, x)))\n",
    "            #print(e)\n",
    "            if e != 0:\n",
    "                errorFlag = 1\n",
    "                w = w + y * x\n",
    "            errSum += np.abs(e)\n",
    "        print('-----Training step ' + str(step) + ' finished with total no. of errors =  ' + str(errSum))\n",
    "    return w\n",
    "\n",
    "print('>>>>>>>>>>>>>>>>>>>>>>>>>>Training<<<<<<<<<<<<<<<<<<<<<<<<<<<<<')\n",
    "X = np.array([[1, 1, 1, 1, 1],[1, 2, 1.5, 2, 1], [-1, 1, 0.5, -1, 2]])\n",
    "Y = np.array([-1, 1, -1, -1, 1])\n",
    "w_ = np.zeros(3)   # Use different initialization scheme here\n",
    "print('Initial soltion w_ = ', w_)\n",
    "\n",
    "# Run the algorithm\n",
    "_w = Perceptron(X, Y, w_)\n",
    "\n",
    "# Sanity check: use refined solution _w on all samples to confirm they are classified correctly\n",
    "errSum = 0\n",
    "for i in range(X.shape[1]):\n",
    "    x = X[:, i]\n",
    "    y = Y[i]\n",
    "    e = y - np.sign(np.matmul(_w, x))\n",
    "    if e != 0:\n",
    "        errSum += np.abs(e)\n",
    "print('Finished checking refined solution. No. of errors =  ' + str(errSum))\n",
    "\n",
    "# Plot the data and the resulting decision boundary when w is initialized to 0\n",
    "\n",
    "print('>>>>>>>>>>>>>>>>>>>>>>>>>>Plot of the Decision Boundary<<<<<<<<<<<<<<<<<<<<<<<<<<<<<')\n",
    "w1 = _w[1]\n",
    "w2 = _w[2]\n",
    "bias = _w[0]\n",
    "print(\"Model: y =  {:.2f} + {:.2f}x1 + {:.2f}x2 \".format(bias, w1, w2))\n",
    "\n",
    "cVal= [0 if y == 1 else 1 for y in Y]\n",
    "cName = ListedColormap(['lime', 'red'])\n",
    "scatter = plt.scatter(X[1, :], X[2, :], c=cVal, cmap=cName)\n",
    "plt.legend(handles=scatter.legend_elements()[0], labels=['y = 1', 'y = -1'])\n",
    "\n",
    "line_f1 = np.linspace(1, 2, 1000)\n",
    "line_f2 = -(w1 / w2) * line_f1 - bias / w2\n",
    "plt.plot(line_f1, line_f2, c='blue')\n",
    "plt.xlabel('Feature1')\n",
    "plt.ylabel('Feature2')\n",
    "\n",
    "plt.show()\n",
    "\n",
    "\n",
    "\n",
    "\n"
   ]
  }
 ],
 "metadata": {
  "interpreter": {
   "hash": "397704579725e15f5c7cb49fe5f0341eb7531c82d19f2c29d197e8b64ab5776b"
  },
  "kernelspec": {
   "display_name": "Python 3.9.15 64-bit",
   "language": "python",
   "name": "python3"
  },
  "language_info": {
   "codemirror_mode": {
    "name": "ipython",
    "version": 3
   },
   "file_extension": ".py",
   "mimetype": "text/x-python",
   "name": "python",
   "nbconvert_exporter": "python",
   "pygments_lexer": "ipython3",
   "version": "3.9.15"
  }
 },
 "nbformat": 4,
 "nbformat_minor": 4
}
