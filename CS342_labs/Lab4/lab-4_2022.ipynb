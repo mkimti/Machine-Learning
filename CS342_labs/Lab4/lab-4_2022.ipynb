{
 "cells": [
  {
   "cell_type": "markdown",
   "metadata": {},
   "source": [
    "# CS342 Machine Learning\n",
    "# Lab 4: Linear regression\n",
    "\n",
    "## Department of Computer Science, University of Warwick"
   ]
  },
  {
   "cell_type": "markdown",
   "metadata": {},
   "source": [
    "This lab focuses on the use of regularization for linear regression."
   ]
  },
  {
   "cell_type": "markdown",
   "metadata": {},
   "source": [
    "# Data files for the lab\n",
    "\n",
    "If working on one of the DCS machines, the data may be found here:\n",
    "\n",
    "```/modules/cs342/2020/lab4/data/prostate_data.csv ```\n",
    "\n",
    "You may load the data directly from that directory.\n",
    "\n",
    "Alternatevely, the data is also available on the CS342 website."
   ]
  },
  {
   "cell_type": "markdown",
   "metadata": {},
   "source": [
    "The prostate dataset (file *prostate_data.csv* see: https://web.stanford.edu/~hastie/ElemStatLearn//datasets/prostate.data) will be used to predict the numerical target variable *lpsa* based on 8 features (*lcavol, lweight, age, lbph, svi, lcp, gleason, pgg45*). There are 97 samples in total. The last column is a Train/Predict flag to be used to separate the samples into two subsets. The *train = T* subset will be used for model fitting and cross-validation (CV), while the *train = F* subset will be used for testing after model selection and training.\n",
    "\n",
    "Import the data into a Pandas data frame and standardize the features and the targets. "
   ]
  },
  {
   "cell_type": "code",
   "execution_count": 14,
   "metadata": {},
   "outputs": [
    {
     "name": "stdout",
     "output_type": "stream",
     "text": [
      "      lcavol   lweight       age      lbph       svi       lcp   gleason  \\\n",
      "0  -1.637356 -2.006212 -1.862426 -1.024706 -0.522941 -0.863171 -1.042157   \n",
      "1  -1.988980 -0.722009 -0.787896 -1.024706 -0.522941 -0.863171 -1.042157   \n",
      "2  -1.578819 -2.188784  1.361163 -1.024706 -0.522941 -0.863171  0.342627   \n",
      "3  -2.166917 -0.807994 -0.787896 -1.024706 -0.522941 -0.863171 -1.042157   \n",
      "4  -0.507874 -0.458834 -0.250631 -1.024706 -0.522941 -0.863171 -1.042157   \n",
      "..       ...       ...       ...       ...       ...       ...       ...   \n",
      "92  1.255920  0.577607  0.555266 -1.024706  1.892548  1.073572  0.342627   \n",
      "93  2.096506  0.625489 -2.668323 -1.024706  1.892548  1.679542  0.342627   \n",
      "94  1.321402 -0.543304 -1.593794 -1.024706  1.892548  1.890377  0.342627   \n",
      "95  1.300290  0.338384  0.555266  1.004813  1.892548  1.242632  0.342627   \n",
      "96  1.800367  0.807764  0.555266  0.232904  1.892548  2.205279  0.342627   \n",
      "\n",
      "       pgg45      lpsa train  \n",
      "0  -0.864467 -2.520226     T  \n",
      "1  -0.864467 -2.287827     T  \n",
      "2  -0.155348 -2.287827     T  \n",
      "3  -0.864467 -2.287827     T  \n",
      "4  -0.864467 -1.825150     T  \n",
      "..       ...       ...   ...  \n",
      "92  1.262889  1.651834     T  \n",
      "93  0.553770  1.911116     T  \n",
      "94 -0.509907  2.308473     F  \n",
      "95  1.972007  2.598152     T  \n",
      "96 -0.155348  2.689480     F  \n",
      "\n",
      "[97 rows x 10 columns]\n"
     ]
    }
   ],
   "source": [
    "#import prostate dataset\n",
    "import pandas as pd\n",
    "prostate = pd.read_csv('prostate_data.csv')\n",
    "\n",
    "for col in prostate.columns:\n",
    "    if col != 'train':\n",
    "        mean = prostate[col].mean()\n",
    "        std = prostate[col].std()\n",
    "        \n",
    "        for i in range(0, len(prostate)):\n",
    "            current = prostate[col].iloc[i]\n",
    "            new = (current - mean)/std\n",
    "            prostate.loc[i, col] = new\n",
    "\n",
    "print(prostate)\n",
    "\n",
    "\n",
    "#standardize features and targets\n"
   ]
  },
  {
   "cell_type": "markdown",
   "metadata": {},
   "source": [
    "### Non-regularized linear regression \n",
    "\n",
    "Scikit-learn has a plethora of linear models:http://scikit-learn.org/stable/modules/classes.html#module-sklearn.linear_model. It includes all the implementations needed for this lab, including implementations that employ cross-validation to select hyperparameter values for regularization. \n",
    "\n",
    "Fit a non-regularized linear regression model to the *train = T* subset. Use least squares to fit the model. Once fitted, use the model to predict the target variable in the *train = F* subset. Use the coefficient of determination, $R^2$, to evaluate the model performance on the test data. The best possible score is 1.0 and it can be negative (because the model can be arbitrarily worse). A constant model that always predicts the expected value of $\\mathbf{y}$, disregarding the input features, would get a  score of 0.0. See http://scikit-learn.org/stable/modules/classes.html#module-sklearn.linear_model for details about how $R^2$ is computed."
   ]
  },
  {
   "cell_type": "code",
   "execution_count": 37,
   "metadata": {},
   "outputs": [
    {
     "data": {
      "text/plain": [
       "0.5033798502381805"
      ]
     },
     "execution_count": 37,
     "metadata": {},
     "output_type": "execute_result"
    }
   ],
   "source": [
    "#Fit and test a non-regularized linear regression model using least squares\n",
    "\n",
    "import numpy as np\n",
    "from sklearn.linear_model import LinearRegression\n",
    "\n",
    "X = prostate[prostate['train'] == 'T']\n",
    "y = X['lpsa']\n",
    "X = X.drop('train', axis=1)\n",
    "X = X.drop('lpsa', axis=1)\n",
    "\n",
    "reg = LinearRegression().fit(X,y)\n",
    "\n",
    "X2 = prostate[prostate['train'] == 'F']\n",
    "y2 = X2['lpsa']\n",
    "X2 = X2.drop('train', axis=1)\n",
    "X2 = X2.drop('lpsa', axis=1)\n",
    "\n",
    "reg.predict(X2)\n",
    "reg.score(X2, y2)\n",
    "\n",
    "\n",
    "\n"
   ]
  },
  {
   "cell_type": "markdown",
   "metadata": {},
   "source": [
    "### L2-regularized linear regression (ridge regression)\n",
    "\n",
    "Fit an L2-regularized linear regression model (using least squares) to the *train = T* subset after using 3-fold CV  to select the hyperparameter value for regularization. The range of hyperparameter values to select from is: $alpha=[1, 2, 3, 4, 5, 6, 7, 8, 9, 10, 11, 12]$. Use the model fitted with the best hyperparameter value to predict the target variable in the *train = F* subset. Use the coefficient of determination, $R^2$, to evaluate the model performance on the test data."
   ]
  },
  {
   "cell_type": "code",
   "execution_count": 40,
   "metadata": {},
   "outputs": [
    {
     "data": {
      "text/plain": [
       "0.5370542358730208"
      ]
     },
     "execution_count": 40,
     "metadata": {},
     "output_type": "execute_result"
    }
   ],
   "source": [
    "#Fit and test an L2-regularized linear regression model using least squares\n",
    "from sklearn.model_selection import KFold\n",
    "from sklearn.linear_model import RidgeCV\n",
    "\n",
    "folds = 3\n",
    "alphas= [1,2,3,4,5,6,7,8,9,10,11,12]\n",
    "kf = KFold(n_splits=folds)\n",
    "\n",
    "clf = RidgeCV(alphas=alphas, cv=kf).fit(X,y)\n",
    "clf.predict(X2)\n",
    "clf.score(X2,y2)\n"
   ]
  },
  {
   "cell_type": "markdown",
   "metadata": {},
   "source": [
    "### L1-regularized linear regression (lasso regression)\n",
    "\n",
    "Fit an L1-regularized linear regression model (using least squares) to the *train = T* subset after using 3-fold CV to select the hyperparameter value for regularization. The range of hyperparameter values to select from is: $alpha=[0.1, 0.2, 0.3, 0.4, 0.5, 0.6, 0.7, 0.8, 0.9, 1]$. Note that for L1-regularization, we use a set of low values as this type of regularization can easily force the weights to be $0$ if alpha is relatively large. Use the model fitted with the best hyperparameter value to predict the target variable in the *train = F* subset. Use the coefficient of determination, $R^2$, to evaluate the model performance on the test data."
   ]
  },
  {
   "cell_type": "code",
   "execution_count": 46,
   "metadata": {},
   "outputs": [
    {
     "name": "stdout",
     "output_type": "stream",
     "text": [
      "[ 0.47383974  0.18554689 -0.          0.07233373  0.13220524  0.\n",
      "  0.          0.05012802]\n"
     ]
    }
   ],
   "source": [
    "#Fit and test an L1-regularized linear regression model using least squares\n",
    "from sklearn.linear_model import LassoCV\n",
    "\n",
    "alphas2= [0.1,0.2,0.3,0.4,0.5,0.6,0.7,0.8,0.9,1]\n",
    "kf = KFold(n_splits=folds)\n",
    "\n",
    "clf = LassoCV(alphas=alphas2, cv=kf).fit(X,y)\n",
    "clf.predict(X2)\n",
    "clf.score(X2,y2)\n",
    "\n",
    "coeffs = clf.coef_\n",
    "print(coeffs)\n"
   ]
  },
  {
   "cell_type": "markdown",
   "metadata": {},
   "source": [
    "1. Which model performs the best for this dataset?\n",
    "2. Which features are irrelevant for this task? **Hint:** display the learned coefficients (weights) for each model and recall which type of regularization allows for feature selection."
   ]
  }
 ],
 "metadata": {
  "kernelspec": {
   "display_name": "Python 3 (ipykernel)",
   "language": "python",
   "name": "python3"
  },
  "language_info": {
   "codemirror_mode": {
    "name": "ipython",
    "version": 3
   },
   "file_extension": ".py",
   "mimetype": "text/x-python",
   "name": "python",
   "nbconvert_exporter": "python",
   "pygments_lexer": "ipython3",
   "version": "3.7.6"
  }
 },
 "nbformat": 4,
 "nbformat_minor": 4
}
