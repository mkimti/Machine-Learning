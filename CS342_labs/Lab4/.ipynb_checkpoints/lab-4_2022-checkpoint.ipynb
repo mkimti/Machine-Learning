{
 "cells": [
  {
   "cell_type": "markdown",
   "metadata": {},
   "source": [
    "# CS342 Machine Learning\n",
    "# Lab 4: Linear regression\n",
    "\n",
    "## Department of Computer Science, University of Warwick"
   ]
  },
  {
   "cell_type": "markdown",
   "metadata": {},
   "source": [
    "This lab focuses on the use of regularization for linear regression."
   ]
  },
  {
   "cell_type": "markdown",
   "metadata": {},
   "source": [
    "# Data files for the lab\n",
    "\n",
    "If working on one of the DCS machines, the data may be found here:\n",
    "\n",
    "```/modules/cs342/2020/lab4/data/prostate_data.csv ```\n",
    "\n",
    "You may load the data directly from that directory.\n",
    "\n",
    "Alternatevely, the data is also available on the CS342 website."
   ]
  },
  {
   "cell_type": "markdown",
   "metadata": {},
   "source": [
    "The prostate dataset (file *prostate_data.csv* see: https://web.stanford.edu/~hastie/ElemStatLearn//datasets/prostate.data) will be used to predict the numerical target variable *lpsa* based on 8 features (*lcavol, lweight, age, lbph, svi, lcp, gleason, pgg45*). There are 97 samples in total. The last column is a Train/Predict flag to be used to separate the samples into two subsets. The *train = T* subset will be used for model fitting and cross-validation (CV), while the *train = F* subset will be used for testing after model selection and training.\n",
    "\n",
    "Import the data into a Pandas data frame and standardize the features and the targets. "
   ]
  },
  {
   "cell_type": "code",
   "execution_count": 12,
   "metadata": {},
   "outputs": [
    {
     "name": "stdout",
     "output_type": "stream",
     "text": [
      "      lcavol   lweight  age      lbph  svi       lcp  gleason  pgg45  \\\n",
      "0  -0.579818  2.769459   50 -1.386294    0 -1.386294        6      0   \n",
      "1  -0.994252  3.319626   58 -1.386294    0 -1.386294        6      0   \n",
      "2  -0.510826  2.691243   74 -1.386294    0 -1.386294        7     20   \n",
      "3  -1.203973  3.282789   58 -1.386294    0 -1.386294        6      0   \n",
      "4   0.751416  3.432373   62 -1.386294    0 -1.386294        6      0   \n",
      "..       ...       ...  ...       ...  ...       ...      ...    ...   \n",
      "92  2.830268  3.876396   68 -1.386294    1  1.321756        7     60   \n",
      "93  3.821004  3.896909   44 -1.386294    1  2.169054        7     40   \n",
      "94  2.907447  3.396185   52 -1.386294    1  2.463853        7     10   \n",
      "95  2.882564  3.773910   68  1.558145    1  1.558145        7     80   \n",
      "96  3.471966  3.974998   68  0.438255    1  2.904165        7     20   \n",
      "\n",
      "        lpsa train  \n",
      "0  -0.430783     T  \n",
      "1  -0.162519     T  \n",
      "2  -0.162519     T  \n",
      "3  -0.162519     T  \n",
      "4   0.371564     T  \n",
      "..       ...   ...  \n",
      "92  4.385147     T  \n",
      "93  4.684443     T  \n",
      "94  5.143124     F  \n",
      "95  5.477509     T  \n",
      "96  5.582932     F  \n",
      "\n",
      "[97 rows x 10 columns]\n"
     ]
    }
   ],
   "source": [
    "#import prostate dataset\n",
    "import pandas as pd\n",
    "prostate = pd.read_csv('prostate_data.csv')\n",
    "\n",
    "for col in prostate.columns:\n",
    "    if col != 'train':\n",
    "        prostate[col].mean()\n",
    "        prostate[col].std()\n",
    "        \n",
    "        for i in range(0, len(prostate)):\n",
    "            current = prostate[col].iloc[i]\n",
    "            #print(current)\n",
    "\n",
    "\n",
    "#standardize features and targets\n"
   ]
  },
  {
   "cell_type": "markdown",
   "metadata": {},
   "source": [
    "### Non-regularized linear regression \n",
    "\n",
    "Scikit-learn has a plethora of linear models:http://scikit-learn.org/stable/modules/classes.html#module-sklearn.linear_model. It includes all the implementations needed for this lab, including implementations that employ cross-validation to select hyperparameter values for regularization. \n",
    "\n",
    "Fit a non-regularized linear regression model to the *train = T* subset. Use least squares to fit the model. Once fitted, use the model to predict the target variable in the *train = F* subset. Use the coefficient of determination, $R^2$, to evaluate the model performance on the test data. The best possible score is 1.0 and it can be negative (because the model can be arbitrarily worse). A constant model that always predicts the expected value of $\\mathbf{y}$, disregarding the input features, would get a  score of 0.0. See http://scikit-learn.org/stable/modules/classes.html#module-sklearn.linear_model for details about how $R^2$ is computed."
   ]
  },
  {
   "cell_type": "code",
   "execution_count": 6,
   "metadata": {},
   "outputs": [],
   "source": [
    "#Fit and test a non-regularized linear regression model using least squares\n"
   ]
  },
  {
   "cell_type": "markdown",
   "metadata": {},
   "source": [
    "### L2-regularized linear regression (ridge regression)\n",
    "\n",
    "Fit an L2-regularized linear regression model (using least squares) to the *train = T* subset after using 3-fold CV  to select the hyperparameter value for regularization. The range of hyperparameter values to select from is: $alpha=[1, 2, 3, 4, 5, 6, 7, 8, 9, 10, 11, 12]$. Use the model fitted with the best hyperparameter value to predict the target variable in the *train = F* subset. Use the coefficient of determination, $R^2$, to evaluate the model performance on the test data."
   ]
  },
  {
   "cell_type": "code",
   "execution_count": 7,
   "metadata": {},
   "outputs": [],
   "source": [
    "#Fit and test an L2-regularized linear regression model using least squares\n"
   ]
  },
  {
   "cell_type": "markdown",
   "metadata": {},
   "source": [
    "### L1-regularized linear regression (lasso regression)\n",
    "\n",
    "Fit an L1-regularized linear regression model (using least squares) to the *train = T* subset after using 3-fold CV to select the hyperparameter value for regularization. The range of hyperparameter values to select from is: $alpha=[0.1, 0.2, 0.3, 0.4, 0.5, 0.6, 0.7, 0.8, 0.9, 1]$. Note that for L1-regularization, we use a set of low values as this type of regularization can easily force the weights to be $0$ if alpha is relatively large. Use the model fitted with the best hyperparameter value to predict the target variable in the *train = F* subset. Use the coefficient of determination, $R^2$, to evaluate the model performance on the test data."
   ]
  },
  {
   "cell_type": "code",
   "execution_count": 8,
   "metadata": {},
   "outputs": [],
   "source": [
    "#Fit and test an L1-regularized linear regression model using least squares\n"
   ]
  },
  {
   "cell_type": "markdown",
   "metadata": {},
   "source": [
    "1. Which model performs the best for this dataset?\n",
    "2. Which features are irrelevant for this task? **Hint:** display the learned coefficients (weights) for each model and recall which type of regularization allows for feature selection."
   ]
  }
 ],
 "metadata": {
  "kernelspec": {
   "display_name": "Python 3 (ipykernel)",
   "language": "python",
   "name": "python3"
  },
  "language_info": {
   "codemirror_mode": {
    "name": "ipython",
    "version": 3
   },
   "file_extension": ".py",
   "mimetype": "text/x-python",
   "name": "python",
   "nbconvert_exporter": "python",
   "pygments_lexer": "ipython3",
   "version": "3.7.6"
  }
 },
 "nbformat": 4,
 "nbformat_minor": 4
}
